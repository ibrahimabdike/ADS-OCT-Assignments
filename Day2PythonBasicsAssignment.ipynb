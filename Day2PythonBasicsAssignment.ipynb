{
 "cells": [
  {
   "cell_type": "code",
   "execution_count": null,
   "id": "d2276428",
   "metadata": {},
   "outputs": [],
   "source": [
    "# 2 Demonstrate the use of variables and data types:\n",
    "# In your Python Repl, create variables of different data types (integers, floats, strings, and booleans) \n",
    "# and assign them appropriate values.\n",
    "# Use the print() function to display the variables and their types in the console."
   ]
  },
  {
   "cell_type": "code",
   "execution_count": 1,
   "id": "14be1135",
   "metadata": {},
   "outputs": [
    {
     "name": "stdout",
     "output_type": "stream",
     "text": [
      "7\n",
      "<class 'int'>\n",
      "3.14\n",
      "<class 'float'>\n",
      "Hello, Python!\n",
      "<class 'str'>\n",
      "True\n",
      "<class 'bool'>\n"
     ]
    }
   ],
   "source": [
    "my_integer = 7\n",
    "my_float = 3.14\n",
    "my_string = \"Hello, Python!\"\n",
    "my_boolean = True\n",
    "\n",
    "print(my_integer)\n",
    "print(type(my_integer))\n",
    "print(my_float)\n",
    "print(type(my_float))\n",
    "print(my_string)\n",
    "print(type(my_string))\n",
    "print(my_boolean)\n",
    "print(type(my_boolean))"
   ]
  },
  {
   "cell_type": "code",
   "execution_count": null,
   "id": "74a6789c",
   "metadata": {},
   "outputs": [],
   "source": []
  }
 ],
 "metadata": {
  "kernelspec": {
   "display_name": "Python 3 (ipykernel)",
   "language": "python",
   "name": "python3"
  },
  "language_info": {
   "codemirror_mode": {
    "name": "ipython",
    "version": 3
   },
   "file_extension": ".py",
   "mimetype": "text/x-python",
   "name": "python",
   "nbconvert_exporter": "python",
   "pygments_lexer": "ipython3",
   "version": "3.11.4"
  }
 },
 "nbformat": 4,
 "nbformat_minor": 5
}
